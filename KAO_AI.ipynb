{
 "cells": [
  {
   "cell_type": "code",
   "execution_count": 1,
   "metadata": {},
   "outputs": [],
   "source": [
    "import pandas as pd\n",
    "import scipy.stats"
   ]
  },
  {
   "cell_type": "code",
   "execution_count": 2,
   "metadata": {},
   "outputs": [],
   "source": [
    "KAO_AI = pd.read_csv(\"KAO_AI.csv\")"
   ]
  },
  {
   "cell_type": "code",
   "execution_count": 3,
   "metadata": {},
   "outputs": [
    {
     "data": {
      "text/html": [
       "<div>\n",
       "<style scoped>\n",
       "    .dataframe tbody tr th:only-of-type {\n",
       "        vertical-align: middle;\n",
       "    }\n",
       "\n",
       "    .dataframe tbody tr th {\n",
       "        vertical-align: top;\n",
       "    }\n",
       "\n",
       "    .dataframe thead th {\n",
       "        text-align: right;\n",
       "    }\n",
       "</style>\n",
       "<table border=\"1\" class=\"dataframe\">\n",
       "  <thead>\n",
       "    <tr style=\"text-align: right;\">\n",
       "      <th></th>\n",
       "      <th>patient ID</th>\n",
       "      <th>Left-Lateral-Ventricle-NVoxels_KAO</th>\n",
       "      <th>Left-Lateral-Ventricle-Volume_mm3_KAO</th>\n",
       "      <th>Left-Inf-Lat-Vent-NVoxels_KAO</th>\n",
       "      <th>Left-Inf-Lat-Vent-Volume_mm3_KAO</th>\n",
       "      <th>Left-Cerebellum-White-Matter-NVoxels_KAO</th>\n",
       "      <th>Left-Cerebellum-White-Matter-Volume_mm3_KAO</th>\n",
       "      <th>Left-Cerebellum-Cortex-NVoxels_KAO</th>\n",
       "      <th>Left-Cerebellum-Cortex-Volume_mm3_KAO</th>\n",
       "      <th>Left-Thalamus-NVoxels_KAO</th>\n",
       "      <th>...</th>\n",
       "      <th>CC_Posterior-NVoxels_AI</th>\n",
       "      <th>CC_Posterior-Volume_mm3_AI</th>\n",
       "      <th>CC_Mid_Posterior-NVoxels_AI</th>\n",
       "      <th>CC_Mid_Posterior-Volume_mm3_AI</th>\n",
       "      <th>CC_Central-NVoxels_AI</th>\n",
       "      <th>CC_Central-Volume_mm3_AI</th>\n",
       "      <th>CC_Mid_Anterior-NVoxels_AI</th>\n",
       "      <th>CC_Mid_Anterior-Volume_mm3_AI</th>\n",
       "      <th>CC_Anterior-NVoxels_AI</th>\n",
       "      <th>CC_Anterior-Volume_mm3_AI</th>\n",
       "    </tr>\n",
       "  </thead>\n",
       "  <tbody>\n",
       "    <tr>\n",
       "      <th>0</th>\n",
       "      <td>MRI_0004_20060826_Philips_3D_T1WI_CAC</td>\n",
       "      <td>38139</td>\n",
       "      <td>38532.0</td>\n",
       "      <td>1893</td>\n",
       "      <td>1860.7</td>\n",
       "      <td>8416</td>\n",
       "      <td>9313.7</td>\n",
       "      <td>42490</td>\n",
       "      <td>42020.0</td>\n",
       "      <td>7931</td>\n",
       "      <td>...</td>\n",
       "      <td>540</td>\n",
       "      <td>460.8</td>\n",
       "      <td>422</td>\n",
       "      <td>361.7</td>\n",
       "      <td>397</td>\n",
       "      <td>338.2</td>\n",
       "      <td>314</td>\n",
       "      <td>272.6</td>\n",
       "      <td>684</td>\n",
       "      <td>634.3</td>\n",
       "    </tr>\n",
       "    <tr>\n",
       "      <th>1</th>\n",
       "      <td>MRI_0011_20200817_GE_3D_T1WI_CAC</td>\n",
       "      <td>22134</td>\n",
       "      <td>22387.8</td>\n",
       "      <td>489</td>\n",
       "      <td>562.0</td>\n",
       "      <td>17000</td>\n",
       "      <td>17406.1</td>\n",
       "      <td>42486</td>\n",
       "      <td>41404.3</td>\n",
       "      <td>6786</td>\n",
       "      <td>...</td>\n",
       "      <td>1324</td>\n",
       "      <td>1188.4</td>\n",
       "      <td>583</td>\n",
       "      <td>465.6</td>\n",
       "      <td>640</td>\n",
       "      <td>547.8</td>\n",
       "      <td>670</td>\n",
       "      <td>592.3</td>\n",
       "      <td>1192</td>\n",
       "      <td>1055.9</td>\n",
       "    </tr>\n",
       "    <tr>\n",
       "      <th>2</th>\n",
       "      <td>MRI_0028_20061227_GE_3D_T1WI_CAC</td>\n",
       "      <td>14873</td>\n",
       "      <td>15294.1</td>\n",
       "      <td>810</td>\n",
       "      <td>958.9</td>\n",
       "      <td>10489</td>\n",
       "      <td>11109.1</td>\n",
       "      <td>51619</td>\n",
       "      <td>50828.0</td>\n",
       "      <td>7081</td>\n",
       "      <td>...</td>\n",
       "      <td>1679</td>\n",
       "      <td>1581.6</td>\n",
       "      <td>1277</td>\n",
       "      <td>1196.7</td>\n",
       "      <td>943</td>\n",
       "      <td>858.8</td>\n",
       "      <td>738</td>\n",
       "      <td>656.3</td>\n",
       "      <td>1440</td>\n",
       "      <td>1256.3</td>\n",
       "    </tr>\n",
       "    <tr>\n",
       "      <th>3</th>\n",
       "      <td>MRI_0064_20070209_Philips_3D_T1WI_CAC</td>\n",
       "      <td>11112</td>\n",
       "      <td>11350.8</td>\n",
       "      <td>1479</td>\n",
       "      <td>1451.8</td>\n",
       "      <td>15636</td>\n",
       "      <td>16233.3</td>\n",
       "      <td>49447</td>\n",
       "      <td>49595.2</td>\n",
       "      <td>6297</td>\n",
       "      <td>...</td>\n",
       "      <td>1017</td>\n",
       "      <td>941.8</td>\n",
       "      <td>528</td>\n",
       "      <td>477.5</td>\n",
       "      <td>442</td>\n",
       "      <td>405.2</td>\n",
       "      <td>522</td>\n",
       "      <td>466.7</td>\n",
       "      <td>720</td>\n",
       "      <td>681.7</td>\n",
       "    </tr>\n",
       "    <tr>\n",
       "      <th>4</th>\n",
       "      <td>MRI_0203_20070511_Philips_3D_T1WI_CAC</td>\n",
       "      <td>13725</td>\n",
       "      <td>13970.9</td>\n",
       "      <td>575</td>\n",
       "      <td>610.9</td>\n",
       "      <td>16283</td>\n",
       "      <td>16909.1</td>\n",
       "      <td>48804</td>\n",
       "      <td>48299.0</td>\n",
       "      <td>7533</td>\n",
       "      <td>...</td>\n",
       "      <td>979</td>\n",
       "      <td>900.1</td>\n",
       "      <td>416</td>\n",
       "      <td>342.5</td>\n",
       "      <td>465</td>\n",
       "      <td>392.3</td>\n",
       "      <td>454</td>\n",
       "      <td>375.9</td>\n",
       "      <td>756</td>\n",
       "      <td>688.9</td>\n",
       "    </tr>\n",
       "  </tbody>\n",
       "</table>\n",
       "<p>5 rows × 181 columns</p>\n",
       "</div>"
      ],
      "text/plain": [
       "                              patient ID  Left-Lateral-Ventricle-NVoxels_KAO  \\\n",
       "0  MRI_0004_20060826_Philips_3D_T1WI_CAC                               38139   \n",
       "1       MRI_0011_20200817_GE_3D_T1WI_CAC                               22134   \n",
       "2       MRI_0028_20061227_GE_3D_T1WI_CAC                               14873   \n",
       "3  MRI_0064_20070209_Philips_3D_T1WI_CAC                               11112   \n",
       "4  MRI_0203_20070511_Philips_3D_T1WI_CAC                               13725   \n",
       "\n",
       "   Left-Lateral-Ventricle-Volume_mm3_KAO  Left-Inf-Lat-Vent-NVoxels_KAO  \\\n",
       "0                                38532.0                           1893   \n",
       "1                                22387.8                            489   \n",
       "2                                15294.1                            810   \n",
       "3                                11350.8                           1479   \n",
       "4                                13970.9                            575   \n",
       "\n",
       "   Left-Inf-Lat-Vent-Volume_mm3_KAO  Left-Cerebellum-White-Matter-NVoxels_KAO  \\\n",
       "0                            1860.7                                      8416   \n",
       "1                             562.0                                     17000   \n",
       "2                             958.9                                     10489   \n",
       "3                            1451.8                                     15636   \n",
       "4                             610.9                                     16283   \n",
       "\n",
       "   Left-Cerebellum-White-Matter-Volume_mm3_KAO  \\\n",
       "0                                       9313.7   \n",
       "1                                      17406.1   \n",
       "2                                      11109.1   \n",
       "3                                      16233.3   \n",
       "4                                      16909.1   \n",
       "\n",
       "   Left-Cerebellum-Cortex-NVoxels_KAO  Left-Cerebellum-Cortex-Volume_mm3_KAO  \\\n",
       "0                               42490                                42020.0   \n",
       "1                               42486                                41404.3   \n",
       "2                               51619                                50828.0   \n",
       "3                               49447                                49595.2   \n",
       "4                               48804                                48299.0   \n",
       "\n",
       "   Left-Thalamus-NVoxels_KAO  ...  CC_Posterior-NVoxels_AI  \\\n",
       "0                       7931  ...                      540   \n",
       "1                       6786  ...                     1324   \n",
       "2                       7081  ...                     1679   \n",
       "3                       6297  ...                     1017   \n",
       "4                       7533  ...                      979   \n",
       "\n",
       "   CC_Posterior-Volume_mm3_AI  CC_Mid_Posterior-NVoxels_AI  \\\n",
       "0                       460.8                          422   \n",
       "1                      1188.4                          583   \n",
       "2                      1581.6                         1277   \n",
       "3                       941.8                          528   \n",
       "4                       900.1                          416   \n",
       "\n",
       "   CC_Mid_Posterior-Volume_mm3_AI  CC_Central-NVoxels_AI  \\\n",
       "0                           361.7                    397   \n",
       "1                           465.6                    640   \n",
       "2                          1196.7                    943   \n",
       "3                           477.5                    442   \n",
       "4                           342.5                    465   \n",
       "\n",
       "   CC_Central-Volume_mm3_AI  CC_Mid_Anterior-NVoxels_AI  \\\n",
       "0                     338.2                         314   \n",
       "1                     547.8                         670   \n",
       "2                     858.8                         738   \n",
       "3                     405.2                         522   \n",
       "4                     392.3                         454   \n",
       "\n",
       "   CC_Mid_Anterior-Volume_mm3_AI  CC_Anterior-NVoxels_AI  \\\n",
       "0                          272.6                     684   \n",
       "1                          592.3                    1192   \n",
       "2                          656.3                    1440   \n",
       "3                          466.7                     720   \n",
       "4                          375.9                     756   \n",
       "\n",
       "   CC_Anterior-Volume_mm3_AI  \n",
       "0                      634.3  \n",
       "1                     1055.9  \n",
       "2                     1256.3  \n",
       "3                      681.7  \n",
       "4                      688.9  \n",
       "\n",
       "[5 rows x 181 columns]"
      ]
     },
     "execution_count": 3,
     "metadata": {},
     "output_type": "execute_result"
    }
   ],
   "source": [
    "KAO_AI.head()"
   ]
  },
  {
   "cell_type": "markdown",
   "metadata": {},
   "source": [
    "# Left-Lateral-Ventricle-NVoxels"
   ]
  },
  {
   "cell_type": "code",
   "execution_count": 4,
   "metadata": {},
   "outputs": [
    {
     "data": {
      "text/plain": [
       "Ttest_indResult(statistic=0.062288813571219154, pvalue=0.9503344833025831)"
      ]
     },
     "execution_count": 4,
     "metadata": {},
     "output_type": "execute_result"
    }
   ],
   "source": [
    "scipy.stats.ttest_ind(KAO_AI[\"Left-Lateral-Ventricle-NVoxels_KAO\"], KAO_AI[\"Left-Lateral-Ventricle-NVoxels_AI\"])"
   ]
  },
  {
   "cell_type": "markdown",
   "metadata": {},
   "source": [
    "# Left-Lateral-Ventricle-Volume_mm3"
   ]
  },
  {
   "cell_type": "code",
   "execution_count": 5,
   "metadata": {},
   "outputs": [
    {
     "data": {
      "text/plain": [
       "Ttest_indResult(statistic=0.04990665117370803, pvalue=0.9601980954457019)"
      ]
     },
     "execution_count": 5,
     "metadata": {},
     "output_type": "execute_result"
    }
   ],
   "source": [
    "scipy.stats.ttest_ind(KAO_AI[\"Left-Lateral-Ventricle-Volume_mm3_KAO\"], KAO_AI[\"Left-Lateral-Ventricle-Volume_mm3_AI\"])"
   ]
  },
  {
   "cell_type": "markdown",
   "metadata": {},
   "source": [
    "# Left-Inf-Lat-Vent-NVoxels"
   ]
  },
  {
   "cell_type": "code",
   "execution_count": 6,
   "metadata": {},
   "outputs": [
    {
     "data": {
      "text/plain": [
       "Ttest_indResult(statistic=0.25143537444516884, pvalue=0.801484355043018)"
      ]
     },
     "execution_count": 6,
     "metadata": {},
     "output_type": "execute_result"
    }
   ],
   "source": [
    "scipy.stats.ttest_ind(KAO_AI[\"Left-Inf-Lat-Vent-NVoxels_KAO\"], KAO_AI[\"Left-Inf-Lat-Vent-NVoxels_AI\"])"
   ]
  },
  {
   "cell_type": "markdown",
   "metadata": {},
   "source": [
    "# Left-Inf-Lat-Vent-Volume_mm3"
   ]
  },
  {
   "cell_type": "code",
   "execution_count": 7,
   "metadata": {},
   "outputs": [
    {
     "data": {
      "text/plain": [
       "Ttest_indResult(statistic=0.1695912808676834, pvalue=0.865336117650117)"
      ]
     },
     "execution_count": 7,
     "metadata": {},
     "output_type": "execute_result"
    }
   ],
   "source": [
    "scipy.stats.ttest_ind(KAO_AI[\"Left-Inf-Lat-Vent-Volume_mm3_KAO\"], KAO_AI[\"Left-Inf-Lat-Vent-Volume_mm3_AI\"])"
   ]
  },
  {
   "cell_type": "markdown",
   "metadata": {},
   "source": [
    "# Left-Cerebellum-White-Matter-NVoxels"
   ]
  },
  {
   "cell_type": "code",
   "execution_count": 8,
   "metadata": {},
   "outputs": [
    {
     "data": {
      "text/plain": [
       "Ttest_indResult(statistic=-0.32010792990332415, pvalue=0.7488953608267191)"
      ]
     },
     "execution_count": 8,
     "metadata": {},
     "output_type": "execute_result"
    }
   ],
   "source": [
    "scipy.stats.ttest_ind(KAO_AI[\"Left-Cerebellum-White-Matter-NVoxels_KAO\"], KAO_AI[\"Left-Cerebellum-White-Matter-NVoxels_AI\"])"
   ]
  },
  {
   "cell_type": "markdown",
   "metadata": {},
   "source": [
    "# Left-Cerebellum-White-Matter-Volume_mm3"
   ]
  },
  {
   "cell_type": "code",
   "execution_count": 9,
   "metadata": {},
   "outputs": [
    {
     "data": {
      "text/plain": [
       "Ttest_indResult(statistic=-0.3209948179778765, pvalue=0.7482231908158312)"
      ]
     },
     "execution_count": 9,
     "metadata": {},
     "output_type": "execute_result"
    }
   ],
   "source": [
    "scipy.stats.ttest_ind(KAO_AI[\"Left-Cerebellum-White-Matter-Volume_mm3_KAO\"], KAO_AI[\"Left-Cerebellum-White-Matter-Volume_mm3_AI\"])"
   ]
  },
  {
   "cell_type": "markdown",
   "metadata": {},
   "source": [
    "# Left-Cerebellum-Cortex-NVoxels"
   ]
  },
  {
   "cell_type": "code",
   "execution_count": 10,
   "metadata": {},
   "outputs": [
    {
     "data": {
      "text/plain": [
       "Ttest_indResult(statistic=-0.40843900449561804, pvalue=0.6829629706085075)"
      ]
     },
     "execution_count": 10,
     "metadata": {},
     "output_type": "execute_result"
    }
   ],
   "source": [
    "scipy.stats.ttest_ind(KAO_AI[\"Left-Cerebellum-Cortex-NVoxels_KAO\"], KAO_AI[\"Left-Cerebellum-Cortex-NVoxels_AI\"])"
   ]
  },
  {
   "cell_type": "markdown",
   "metadata": {},
   "source": [
    "# Left-Cerebellum-Cortex-Volume_mm3"
   ]
  },
  {
   "cell_type": "code",
   "execution_count": 11,
   "metadata": {},
   "outputs": [
    {
     "data": {
      "text/plain": [
       "Ttest_indResult(statistic=-0.36238423403715136, pvalue=0.717075048975482)"
      ]
     },
     "execution_count": 11,
     "metadata": {},
     "output_type": "execute_result"
    }
   ],
   "source": [
    "scipy.stats.ttest_ind(KAO_AI[\"Left-Cerebellum-Cortex-Volume_mm3_KAO\"], KAO_AI[\"Left-Cerebellum-Cortex-Volume_mm3_AI\"])"
   ]
  },
  {
   "cell_type": "markdown",
   "metadata": {},
   "source": [
    "# Left-Thalamus-NVoxels"
   ]
  },
  {
   "cell_type": "code",
   "execution_count": 12,
   "metadata": {},
   "outputs": [
    {
     "data": {
      "text/plain": [
       "Ttest_indResult(statistic=-0.04602293791875115, pvalue=0.9632931830448628)"
      ]
     },
     "execution_count": 12,
     "metadata": {},
     "output_type": "execute_result"
    }
   ],
   "source": [
    "scipy.stats.ttest_ind(KAO_AI[\"Left-Thalamus-NVoxels_KAO\"], KAO_AI[\"Left-Thalamus-NVoxels_AI\"])"
   ]
  },
  {
   "cell_type": "markdown",
   "metadata": {},
   "source": [
    "# Left-Thalamus-Volume_mm3"
   ]
  },
  {
   "cell_type": "code",
   "execution_count": 13,
   "metadata": {},
   "outputs": [
    {
     "data": {
      "text/plain": [
       "Ttest_indResult(statistic=0.048962370279328406, pvalue=0.9609505775194985)"
      ]
     },
     "execution_count": 13,
     "metadata": {},
     "output_type": "execute_result"
    }
   ],
   "source": [
    "scipy.stats.ttest_ind(KAO_AI[\"Left-Thalamus-Volume_mm3_KAO\"], KAO_AI[\"Left-Thalamus-Volume_mm3_AI\"])"
   ]
  },
  {
   "cell_type": "markdown",
   "metadata": {},
   "source": [
    "# Left-Caudate-NVoxels"
   ]
  },
  {
   "cell_type": "code",
   "execution_count": 14,
   "metadata": {},
   "outputs": [
    {
     "data": {
      "text/plain": [
       "Ttest_indResult(statistic=0.04220593784912468, pvalue=0.9663356436396865)"
      ]
     },
     "execution_count": 14,
     "metadata": {},
     "output_type": "execute_result"
    }
   ],
   "source": [
    "scipy.stats.ttest_ind(KAO_AI[\"Left-Caudate-NVoxels_KAO\"], KAO_AI[\"Left-Caudate-NVoxels_AI\"])"
   ]
  },
  {
   "cell_type": "markdown",
   "metadata": {},
   "source": [
    "# Left-Caudate-Volume_mm3"
   ]
  },
  {
   "cell_type": "code",
   "execution_count": 15,
   "metadata": {},
   "outputs": [
    {
     "data": {
      "text/plain": [
       "Ttest_indResult(statistic=0.16141673222936956, pvalue=0.8717695023918415)"
      ]
     },
     "execution_count": 15,
     "metadata": {},
     "output_type": "execute_result"
    }
   ],
   "source": [
    "scipy.stats.ttest_ind(KAO_AI[\"Left-Caudate-Volume_mm3_KAO\"], KAO_AI[\"Left-Caudate-Volume_mm3_AI\"])"
   ]
  },
  {
   "cell_type": "markdown",
   "metadata": {},
   "source": [
    "# Left-Putamen-NVoxels"
   ]
  },
  {
   "cell_type": "code",
   "execution_count": 16,
   "metadata": {},
   "outputs": [
    {
     "data": {
      "text/plain": [
       "Ttest_indResult(statistic=-0.047161744086568806, pvalue=0.9623855630986285)"
      ]
     },
     "execution_count": 16,
     "metadata": {},
     "output_type": "execute_result"
    }
   ],
   "source": [
    "scipy.stats.ttest_ind(KAO_AI[\"Left-Putamen-NVoxels_KAO\"], KAO_AI[\"Left-Putamen-NVoxels_AI\"])"
   ]
  },
  {
   "cell_type": "markdown",
   "metadata": {},
   "source": [
    "# Left-Putamen-Volume_mm3"
   ]
  },
  {
   "cell_type": "code",
   "execution_count": 17,
   "metadata": {},
   "outputs": [
    {
     "data": {
      "text/plain": [
       "Ttest_indResult(statistic=-0.07640040230545092, pvalue=0.9391025712034786)"
      ]
     },
     "execution_count": 17,
     "metadata": {},
     "output_type": "execute_result"
    }
   ],
   "source": [
    "scipy.stats.ttest_ind(KAO_AI[\"Left-Putamen-Volume_mm3_KAO\"], KAO_AI[\"Left-Putamen-Volume_mm3_AI\"])"
   ]
  },
  {
   "cell_type": "markdown",
   "metadata": {},
   "source": [
    "# Left-Pallidum-NVoxels"
   ]
  },
  {
   "cell_type": "code",
   "execution_count": 18,
   "metadata": {},
   "outputs": [
    {
     "data": {
      "text/plain": [
       "Ttest_indResult(statistic=0.14016962716760842, pvalue=0.8885297030871057)"
      ]
     },
     "execution_count": 18,
     "metadata": {},
     "output_type": "execute_result"
    }
   ],
   "source": [
    "scipy.stats.ttest_ind(KAO_AI[\"Left-Pallidum-NVoxels_KAO\"], KAO_AI[\"Left-Pallidum-NVoxels_AI\"])"
   ]
  },
  {
   "cell_type": "markdown",
   "metadata": {},
   "source": [
    "# Left-Pallidum-Volume_mm3"
   ]
  },
  {
   "cell_type": "code",
   "execution_count": 19,
   "metadata": {},
   "outputs": [
    {
     "data": {
      "text/plain": [
       "Ttest_indResult(statistic=0.13539732267346657, pvalue=0.8923013455441379)"
      ]
     },
     "execution_count": 19,
     "metadata": {},
     "output_type": "execute_result"
    }
   ],
   "source": [
    "scipy.stats.ttest_ind(KAO_AI[\"Left-Pallidum-Volume_mm3_KAO\"], KAO_AI[\"Left-Pallidum-Volume_mm3_AI\"])"
   ]
  },
  {
   "cell_type": "markdown",
   "metadata": {},
   "source": [
    "# 3rd-Ventricle-NVoxels"
   ]
  },
  {
   "cell_type": "code",
   "execution_count": 20,
   "metadata": {},
   "outputs": [
    {
     "data": {
      "text/plain": [
       "Ttest_indResult(statistic=0.004626478268610719, pvalue=0.9963087396564144)"
      ]
     },
     "execution_count": 20,
     "metadata": {},
     "output_type": "execute_result"
    }
   ],
   "source": [
    "scipy.stats.ttest_ind(KAO_AI[\"3rd-Ventricle-NVoxels_KAO\"], KAO_AI[\"3rd-Ventricle-NVoxels_AI\"])"
   ]
  },
  {
   "cell_type": "markdown",
   "metadata": {},
   "source": [
    "# 3rd-Ventricle-Volume_mm3"
   ]
  },
  {
   "cell_type": "code",
   "execution_count": 21,
   "metadata": {},
   "outputs": [
    {
     "data": {
      "text/plain": [
       "Ttest_indResult(statistic=-0.0275851897321297, pvalue=0.9779937221549507)"
      ]
     },
     "execution_count": 21,
     "metadata": {},
     "output_type": "execute_result"
    }
   ],
   "source": [
    "scipy.stats.ttest_ind(KAO_AI[\"3rd-Ventricle-Volume_mm3_KAO\"], KAO_AI[\"3rd-Ventricle-Volume_mm3_AI\"])"
   ]
  },
  {
   "cell_type": "markdown",
   "metadata": {},
   "source": [
    "# 4th-Ventricle-NVoxels"
   ]
  },
  {
   "cell_type": "code",
   "execution_count": 22,
   "metadata": {},
   "outputs": [
    {
     "data": {
      "text/plain": [
       "Ttest_indResult(statistic=0.2048504360234921, pvalue=0.8376944950208951)"
      ]
     },
     "execution_count": 22,
     "metadata": {},
     "output_type": "execute_result"
    }
   ],
   "source": [
    "scipy.stats.ttest_ind(KAO_AI[\"4th-Ventricle-NVoxels_KAO\"], KAO_AI[\"4th-Ventricle-NVoxels_AI\"])"
   ]
  },
  {
   "cell_type": "markdown",
   "metadata": {},
   "source": [
    "# 4th-Ventricle-Volume_mm3"
   ]
  },
  {
   "cell_type": "code",
   "execution_count": 23,
   "metadata": {},
   "outputs": [
    {
     "data": {
      "text/plain": [
       "Ttest_indResult(statistic=0.21483375856791231, pvalue=0.8299027264707393)"
      ]
     },
     "execution_count": 23,
     "metadata": {},
     "output_type": "execute_result"
    }
   ],
   "source": [
    "scipy.stats.ttest_ind(KAO_AI[\"4th-Ventricle-Volume_mm3_KAO\"], KAO_AI[\"4th-Ventricle-Volume_mm3_AI\"])"
   ]
  },
  {
   "cell_type": "markdown",
   "metadata": {},
   "source": [
    "# Brain-Stem-NVoxels"
   ]
  },
  {
   "cell_type": "code",
   "execution_count": 24,
   "metadata": {},
   "outputs": [
    {
     "data": {
      "text/plain": [
       "Ttest_indResult(statistic=-0.1025810089556312, pvalue=0.9182982366624749)"
      ]
     },
     "execution_count": 24,
     "metadata": {},
     "output_type": "execute_result"
    }
   ],
   "source": [
    "scipy.stats.ttest_ind(KAO_AI[\"Brain-Stem-NVoxels_KAO\"], KAO_AI[\"Brain-Stem-NVoxels_AI\"])"
   ]
  },
  {
   "cell_type": "markdown",
   "metadata": {},
   "source": [
    "# Brain-Stem-Volume_mm3"
   ]
  },
  {
   "cell_type": "code",
   "execution_count": 25,
   "metadata": {},
   "outputs": [
    {
     "data": {
      "text/plain": [
       "Ttest_indResult(statistic=-0.02157885182861313, pvalue=0.9827844728826199)"
      ]
     },
     "execution_count": 25,
     "metadata": {},
     "output_type": "execute_result"
    }
   ],
   "source": [
    "scipy.stats.ttest_ind(KAO_AI[\"Brain-Stem-Volume_mm3_KAO\"], KAO_AI[\"Brain-Stem-Volume_mm3_AI\"])"
   ]
  },
  {
   "cell_type": "markdown",
   "metadata": {},
   "source": [
    "# Left-Hippocampus-NVoxels"
   ]
  },
  {
   "cell_type": "code",
   "execution_count": 26,
   "metadata": {},
   "outputs": [
    {
     "data": {
      "text/plain": [
       "Ttest_indResult(statistic=-0.5770948499571202, pvalue=0.5638925670039903)"
      ]
     },
     "execution_count": 26,
     "metadata": {},
     "output_type": "execute_result"
    }
   ],
   "source": [
    "scipy.stats.ttest_ind(KAO_AI[\"Left-Hippocampus-NVoxels_KAO\"], KAO_AI[\"Left-Hippocampus-NVoxels_AI\"])"
   ]
  },
  {
   "cell_type": "markdown",
   "metadata": {},
   "source": [
    "# Left-Hippocampus-Volume_mm3"
   ]
  },
  {
   "cell_type": "code",
   "execution_count": 27,
   "metadata": {},
   "outputs": [
    {
     "data": {
      "text/plain": [
       "Ttest_indResult(statistic=-0.4039538229911231, pvalue=0.6862581020793067)"
      ]
     },
     "execution_count": 27,
     "metadata": {},
     "output_type": "execute_result"
    }
   ],
   "source": [
    "scipy.stats.ttest_ind(KAO_AI[\"Left-Hippocampus-Volume_mm3_KAO\"], KAO_AI[\"Left-Hippocampus-Volume_mm3_AI\"])"
   ]
  },
  {
   "cell_type": "markdown",
   "metadata": {},
   "source": [
    "# Left-Amygdala-NVoxels"
   ]
  },
  {
   "cell_type": "code",
   "execution_count": 28,
   "metadata": {},
   "outputs": [
    {
     "data": {
      "text/plain": [
       "Ttest_indResult(statistic=-0.4387089043423689, pvalue=0.6608850108380808)"
      ]
     },
     "execution_count": 28,
     "metadata": {},
     "output_type": "execute_result"
    }
   ],
   "source": [
    "scipy.stats.ttest_ind(KAO_AI[\"Left-Amygdala-NVoxels_KAO\"], KAO_AI[\"Left-Amygdala-NVoxels_AI\"])"
   ]
  },
  {
   "cell_type": "markdown",
   "metadata": {},
   "source": [
    "# Left-Amygdala-Volume_mm3"
   ]
  },
  {
   "cell_type": "code",
   "execution_count": 29,
   "metadata": {},
   "outputs": [
    {
     "data": {
      "text/plain": [
       "Ttest_indResult(statistic=-0.3588478893665816, pvalue=0.7197189056865144)"
      ]
     },
     "execution_count": 29,
     "metadata": {},
     "output_type": "execute_result"
    }
   ],
   "source": [
    "scipy.stats.ttest_ind(KAO_AI[\"Left-Amygdala-Volume_mm3_KAO\"], KAO_AI[\"Left-Amygdala-Volume_mm3_AI\"])"
   ]
  },
  {
   "cell_type": "markdown",
   "metadata": {},
   "source": [
    "# CSF-NVoxels"
   ]
  },
  {
   "cell_type": "code",
   "execution_count": 30,
   "metadata": {},
   "outputs": [
    {
     "data": {
      "text/plain": [
       "Ttest_indResult(statistic=0.025804178031212835, pvalue=0.9794142104332134)"
      ]
     },
     "execution_count": 30,
     "metadata": {},
     "output_type": "execute_result"
    }
   ],
   "source": [
    "scipy.stats.ttest_ind(KAO_AI[\"CSF-NVoxels_KAO\"], KAO_AI[\"CSF-NVoxels_AI\"])"
   ]
  },
  {
   "cell_type": "markdown",
   "metadata": {},
   "source": [
    "# CSF-Volume_mm3"
   ]
  },
  {
   "cell_type": "code",
   "execution_count": 31,
   "metadata": {},
   "outputs": [
    {
     "data": {
      "text/plain": [
       "Ttest_indResult(statistic=0.12805828715758996, pvalue=0.8981062523501714)"
      ]
     },
     "execution_count": 31,
     "metadata": {},
     "output_type": "execute_result"
    }
   ],
   "source": [
    "scipy.stats.ttest_ind(KAO_AI[\"CSF-Volume_mm3_KAO\"], KAO_AI[\"CSF-Volume_mm3_AI\"])"
   ]
  },
  {
   "cell_type": "markdown",
   "metadata": {},
   "source": [
    "# Left-Accumbens-area-NVoxels"
   ]
  },
  {
   "cell_type": "code",
   "execution_count": 32,
   "metadata": {},
   "outputs": [
    {
     "data": {
      "text/plain": [
       "Ttest_indResult(statistic=-0.3239535538925967, pvalue=0.7459821597600238)"
      ]
     },
     "execution_count": 32,
     "metadata": {},
     "output_type": "execute_result"
    }
   ],
   "source": [
    "scipy.stats.ttest_ind(KAO_AI[\"Left-Accumbens-area-NVoxels_KAO\"], KAO_AI[\"Left-Accumbens-area-NVoxels_AI\"])"
   ]
  },
  {
   "cell_type": "markdown",
   "metadata": {},
   "source": [
    "# Left-Accumbens-area-Volume_mm3"
   ]
  },
  {
   "cell_type": "code",
   "execution_count": 33,
   "metadata": {},
   "outputs": [
    {
     "data": {
      "text/plain": [
       "Ttest_indResult(statistic=-0.175343042737705, pvalue=0.8608147882662449)"
      ]
     },
     "execution_count": 33,
     "metadata": {},
     "output_type": "execute_result"
    }
   ],
   "source": [
    "scipy.stats.ttest_ind(KAO_AI[\"Left-Accumbens-area-Volume_mm3_KAO\"], KAO_AI[\"Left-Accumbens-area-Volume_mm3_AI\"])"
   ]
  },
  {
   "cell_type": "markdown",
   "metadata": {},
   "source": [
    "# Left-VentralDC-NVoxels"
   ]
  },
  {
   "cell_type": "code",
   "execution_count": 34,
   "metadata": {},
   "outputs": [
    {
     "data": {
      "text/plain": [
       "Ttest_indResult(statistic=-0.43617016921585744, pvalue=0.6627257242454841)"
      ]
     },
     "execution_count": 34,
     "metadata": {},
     "output_type": "execute_result"
    }
   ],
   "source": [
    "scipy.stats.ttest_ind(KAO_AI[\"Left-VentralDC-NVoxels_KAO\"], KAO_AI[\"Left-VentralDC-NVoxels_AI\"])"
   ]
  },
  {
   "cell_type": "markdown",
   "metadata": {},
   "source": [
    "# Left-VentralDC-Volume_mm3"
   ]
  },
  {
   "cell_type": "code",
   "execution_count": 35,
   "metadata": {},
   "outputs": [
    {
     "data": {
      "text/plain": [
       "Ttest_indResult(statistic=-0.25326318221962774, pvalue=0.800071731558553)"
      ]
     },
     "execution_count": 35,
     "metadata": {},
     "output_type": "execute_result"
    }
   ],
   "source": [
    "scipy.stats.ttest_ind(KAO_AI[\"Left-VentralDC-Volume_mm3_KAO\"], KAO_AI[\"Left-VentralDC-Volume_mm3_AI\"])"
   ]
  },
  {
   "cell_type": "markdown",
   "metadata": {},
   "source": [
    "# Left-vessel-NVoxels"
   ]
  },
  {
   "cell_type": "code",
   "execution_count": 36,
   "metadata": {},
   "outputs": [
    {
     "data": {
      "text/plain": [
       "Ttest_indResult(statistic=0.288567805876834, pvalue=0.7729200464401256)"
      ]
     },
     "execution_count": 36,
     "metadata": {},
     "output_type": "execute_result"
    }
   ],
   "source": [
    "scipy.stats.ttest_ind(KAO_AI[\"Left-vessel-NVoxels_KAO\"], KAO_AI[\"Left-vessel-NVoxels_AI\"])"
   ]
  },
  {
   "cell_type": "markdown",
   "metadata": {},
   "source": [
    "# Left-vessel-Volume_mm3"
   ]
  },
  {
   "cell_type": "code",
   "execution_count": 37,
   "metadata": {},
   "outputs": [
    {
     "data": {
      "text/plain": [
       "Ttest_indResult(statistic=0.046007266386286695, pvalue=0.9633056734728697)"
      ]
     },
     "execution_count": 37,
     "metadata": {},
     "output_type": "execute_result"
    }
   ],
   "source": [
    "scipy.stats.ttest_ind(KAO_AI[\"Left-vessel-Volume_mm3_KAO\"], KAO_AI[\"Left-vessel-Volume_mm3_AI\"])"
   ]
  },
  {
   "cell_type": "markdown",
   "metadata": {},
   "source": [
    "# Left-choroid-plexus-NVoxels"
   ]
  },
  {
   "cell_type": "code",
   "execution_count": 38,
   "metadata": {},
   "outputs": [
    {
     "data": {
      "text/plain": [
       "Ttest_indResult(statistic=0.12560176029319067, pvalue=0.9000505092685795)"
      ]
     },
     "execution_count": 38,
     "metadata": {},
     "output_type": "execute_result"
    }
   ],
   "source": [
    "scipy.stats.ttest_ind(KAO_AI[\"Left-choroid-plexus-NVoxels_KAO\"], KAO_AI[\"Left-choroid-plexus-NVoxels_AI\"])"
   ]
  },
  {
   "cell_type": "markdown",
   "metadata": {},
   "source": [
    "# Left-choroid-plexus-Volume_mm3"
   ]
  },
  {
   "cell_type": "code",
   "execution_count": 39,
   "metadata": {},
   "outputs": [
    {
     "data": {
      "text/plain": [
       "Ttest_indResult(statistic=0.10683789744581955, pvalue=0.914920416538168)"
      ]
     },
     "execution_count": 39,
     "metadata": {},
     "output_type": "execute_result"
    }
   ],
   "source": [
    "scipy.stats.ttest_ind(KAO_AI[\"Left-choroid-plexus-Volume_mm3_KAO\"], KAO_AI[\"Left-choroid-plexus-Volume_mm3_AI\"])"
   ]
  },
  {
   "cell_type": "markdown",
   "metadata": {},
   "source": [
    "# Right-Lateral-Ventricle-NVoxels"
   ]
  },
  {
   "cell_type": "code",
   "execution_count": 40,
   "metadata": {},
   "outputs": [
    {
     "data": {
      "text/plain": [
       "Ttest_indResult(statistic=-0.013303576160646735, pvalue=0.9893859461185928)"
      ]
     },
     "execution_count": 40,
     "metadata": {},
     "output_type": "execute_result"
    }
   ],
   "source": [
    "scipy.stats.ttest_ind(KAO_AI[\"Right-Lateral-Ventricle-NVoxels_KAO\"], KAO_AI[\"Right-Lateral-Ventricle-NVoxels_AI\"])"
   ]
  },
  {
   "cell_type": "markdown",
   "metadata": {},
   "source": [
    "# Right-Lateral-Ventricle-Volume_mm3"
   ]
  },
  {
   "cell_type": "code",
   "execution_count": 41,
   "metadata": {},
   "outputs": [
    {
     "data": {
      "text/plain": [
       "Ttest_indResult(statistic=-0.0026444191510380647, pvalue=0.9978901310184909)"
      ]
     },
     "execution_count": 41,
     "metadata": {},
     "output_type": "execute_result"
    }
   ],
   "source": [
    "scipy.stats.ttest_ind(KAO_AI[\"Right-Lateral-Ventricle-Volume_mm3_KAO\"], KAO_AI[\"Right-Lateral-Ventricle-Volume_mm3_AI\"])"
   ]
  },
  {
   "cell_type": "markdown",
   "metadata": {},
   "source": [
    "# Right-Inf-Lat-Vent-NVoxels"
   ]
  },
  {
   "cell_type": "code",
   "execution_count": 42,
   "metadata": {},
   "outputs": [
    {
     "data": {
      "text/plain": [
       "Ttest_indResult(statistic=0.15684935552397106, pvalue=0.8753677625162151)"
      ]
     },
     "execution_count": 42,
     "metadata": {},
     "output_type": "execute_result"
    }
   ],
   "source": [
    "scipy.stats.ttest_ind(KAO_AI[\"Right-Inf-Lat-Vent-NVoxels_KAO\"], KAO_AI[\"Right-Inf-Lat-Vent-NVoxels_AI\"])"
   ]
  },
  {
   "cell_type": "markdown",
   "metadata": {},
   "source": [
    "# Right-Inf-Lat-Vent-Volume_mm3"
   ]
  },
  {
   "cell_type": "code",
   "execution_count": 43,
   "metadata": {},
   "outputs": [
    {
     "data": {
      "text/plain": [
       "Ttest_indResult(statistic=0.06658800100035758, pvalue=0.9469114591407335)"
      ]
     },
     "execution_count": 43,
     "metadata": {},
     "output_type": "execute_result"
    }
   ],
   "source": [
    "scipy.stats.ttest_ind(KAO_AI[\"Right-Inf-Lat-Vent-Volume_mm3_KAO\"], KAO_AI[\"Right-Inf-Lat-Vent-Volume_mm3_AI\"])"
   ]
  },
  {
   "cell_type": "markdown",
   "metadata": {},
   "source": [
    "# Right-Cerebellum-White-Matter-NVoxels"
   ]
  },
  {
   "cell_type": "code",
   "execution_count": 44,
   "metadata": {},
   "outputs": [
    {
     "data": {
      "text/plain": [
       "Ttest_indResult(statistic=-1.1932533307736504, pvalue=0.2328076191215838)"
      ]
     },
     "execution_count": 44,
     "metadata": {},
     "output_type": "execute_result"
    }
   ],
   "source": [
    "scipy.stats.ttest_ind(KAO_AI[\"Right-Cerebellum-White-Matter-NVoxels_KAO\"], KAO_AI[\"Right-Cerebellum-White-Matter-NVoxels_AI\"])"
   ]
  },
  {
   "cell_type": "markdown",
   "metadata": {},
   "source": [
    "# Right-Cerebellum-White-Matter-Volume_mm3"
   ]
  },
  {
   "cell_type": "code",
   "execution_count": 45,
   "metadata": {},
   "outputs": [
    {
     "data": {
      "text/plain": [
       "Ttest_indResult(statistic=-1.1515864661874984, pvalue=0.249527462658243)"
      ]
     },
     "execution_count": 45,
     "metadata": {},
     "output_type": "execute_result"
    }
   ],
   "source": [
    "scipy.stats.ttest_ind(KAO_AI[\"Right-Cerebellum-White-Matter-Volume_mm3_KAO\"], KAO_AI[\"Right-Cerebellum-White-Matter-Volume_mm3_AI\"])"
   ]
  },
  {
   "cell_type": "markdown",
   "metadata": {},
   "source": [
    "# Right-Cerebellum-Cortex-NVoxels"
   ]
  },
  {
   "cell_type": "code",
   "execution_count": 46,
   "metadata": {},
   "outputs": [
    {
     "data": {
      "text/plain": [
       "Ttest_indResult(statistic=-0.30958454904578464, pvalue=0.7568854397943364)"
      ]
     },
     "execution_count": 46,
     "metadata": {},
     "output_type": "execute_result"
    }
   ],
   "source": [
    "scipy.stats.ttest_ind(KAO_AI[\"Right-Cerebellum-Cortex-NVoxels_KAO\"], KAO_AI[\"Right-Cerebellum-Cortex-NVoxels_AI\"])"
   ]
  },
  {
   "cell_type": "markdown",
   "metadata": {},
   "source": [
    "# Right-Cerebellum-Cortex-Volume_mm3"
   ]
  },
  {
   "cell_type": "code",
   "execution_count": 47,
   "metadata": {},
   "outputs": [
    {
     "data": {
      "text/plain": [
       "Ttest_indResult(statistic=-0.2844042681893338, pvalue=0.7761083778276125)"
      ]
     },
     "execution_count": 47,
     "metadata": {},
     "output_type": "execute_result"
    }
   ],
   "source": [
    "scipy.stats.ttest_ind(KAO_AI[\"Right-Cerebellum-Cortex-Volume_mm3_KAO\"], KAO_AI[\"Right-Cerebellum-Cortex-Volume_mm3_AI\"])"
   ]
  },
  {
   "cell_type": "markdown",
   "metadata": {},
   "source": [
    "# Right-Thalamus-NVoxels"
   ]
  },
  {
   "cell_type": "code",
   "execution_count": 48,
   "metadata": {},
   "outputs": [
    {
     "data": {
      "text/plain": [
       "Ttest_indResult(statistic=-0.23660396421804772, pvalue=0.8129704547380125)"
      ]
     },
     "execution_count": 48,
     "metadata": {},
     "output_type": "execute_result"
    }
   ],
   "source": [
    "scipy.stats.ttest_ind(KAO_AI[\"Right-Thalamus-NVoxels_KAO\"], KAO_AI[\"Right-Thalamus-NVoxels_AI\"])"
   ]
  },
  {
   "cell_type": "markdown",
   "metadata": {},
   "source": [
    "# Right-Thalamus-Volume_mm3"
   ]
  },
  {
   "cell_type": "code",
   "execution_count": 49,
   "metadata": {},
   "outputs": [
    {
     "data": {
      "text/plain": [
       "Ttest_indResult(statistic=-0.24526178094204176, pvalue=0.8062603996255114)"
      ]
     },
     "execution_count": 49,
     "metadata": {},
     "output_type": "execute_result"
    }
   ],
   "source": [
    "scipy.stats.ttest_ind(KAO_AI[\"Right-Thalamus-Volume_mm3_KAO\"], KAO_AI[\"Right-Thalamus-Volume_mm3_AI\"])"
   ]
  },
  {
   "cell_type": "markdown",
   "metadata": {},
   "source": [
    "# Right-Caudate-NVoxels"
   ]
  },
  {
   "cell_type": "code",
   "execution_count": 50,
   "metadata": {},
   "outputs": [
    {
     "data": {
      "text/plain": [
       "Ttest_indResult(statistic=0.12295209540139078, pvalue=0.9021483006656656)"
      ]
     },
     "execution_count": 50,
     "metadata": {},
     "output_type": "execute_result"
    }
   ],
   "source": [
    "scipy.stats.ttest_ind(KAO_AI[\"Right-Caudate-NVoxels_KAO\"], KAO_AI[\"Right-Caudate-NVoxels_AI\"])"
   ]
  },
  {
   "cell_type": "markdown",
   "metadata": {},
   "source": [
    "# Right-Caudate-Volume_mm3"
   ]
  },
  {
   "cell_type": "code",
   "execution_count": 51,
   "metadata": {},
   "outputs": [
    {
     "data": {
      "text/plain": [
       "Ttest_indResult(statistic=0.04814513644306165, pvalue=0.9616018459734056)"
      ]
     },
     "execution_count": 51,
     "metadata": {},
     "output_type": "execute_result"
    }
   ],
   "source": [
    "scipy.stats.ttest_ind(KAO_AI[\"Right-Caudate-Volume_mm3_KAO\"], KAO_AI[\"Right-Caudate-Volume_mm3_AI\"])"
   ]
  },
  {
   "cell_type": "markdown",
   "metadata": {},
   "source": [
    "# Right-Putamen-NVoxels"
   ]
  },
  {
   "cell_type": "code",
   "execution_count": 52,
   "metadata": {},
   "outputs": [
    {
     "data": {
      "text/plain": [
       "Ttest_indResult(statistic=-0.16400980375254914, pvalue=0.8697278104170452)"
      ]
     },
     "execution_count": 52,
     "metadata": {},
     "output_type": "execute_result"
    }
   ],
   "source": [
    "scipy.stats.ttest_ind(KAO_AI[\"Right-Putamen-NVoxels_KAO\"], KAO_AI[\"Right-Putamen-NVoxels_AI\"])"
   ]
  },
  {
   "cell_type": "markdown",
   "metadata": {},
   "source": [
    "# Right-Putamen-Volume_mm3"
   ]
  },
  {
   "cell_type": "code",
   "execution_count": 53,
   "metadata": {},
   "outputs": [
    {
     "data": {
      "text/plain": [
       "Ttest_indResult(statistic=-0.19287528917902205, pvalue=0.8470618190105295)"
      ]
     },
     "execution_count": 53,
     "metadata": {},
     "output_type": "execute_result"
    }
   ],
   "source": [
    "scipy.stats.ttest_ind(KAO_AI[\"Right-Putamen-Volume_mm3_KAO\"], KAO_AI[\"Right-Putamen-Volume_mm3_AI\"])"
   ]
  },
  {
   "cell_type": "markdown",
   "metadata": {},
   "source": [
    "# Right-Pallidum-NVoxels"
   ]
  },
  {
   "cell_type": "code",
   "execution_count": 54,
   "metadata": {},
   "outputs": [
    {
     "data": {
      "text/plain": [
       "Ttest_indResult(statistic=-0.4461704766073408, pvalue=0.6554868854384366)"
      ]
     },
     "execution_count": 54,
     "metadata": {},
     "output_type": "execute_result"
    }
   ],
   "source": [
    "scipy.stats.ttest_ind(KAO_AI[\"Right-Pallidum-NVoxels_KAO\"], KAO_AI[\"Right-Pallidum-NVoxels_AI\"])"
   ]
  },
  {
   "cell_type": "markdown",
   "metadata": {},
   "source": [
    "# Right-Pallidum-Volume_mm3"
   ]
  },
  {
   "cell_type": "code",
   "execution_count": 55,
   "metadata": {},
   "outputs": [
    {
     "data": {
      "text/plain": [
       "Ttest_indResult(statistic=-0.4818037772853014, pvalue=0.6299592924866397)"
      ]
     },
     "execution_count": 55,
     "metadata": {},
     "output_type": "execute_result"
    }
   ],
   "source": [
    "scipy.stats.ttest_ind(KAO_AI[\"Right-Pallidum-Volume_mm3_KAO\"], KAO_AI[\"Right-Pallidum-Volume_mm3_AI\"])"
   ]
  },
  {
   "cell_type": "markdown",
   "metadata": {},
   "source": [
    "# Right-Hippocampus-NVoxels"
   ]
  },
  {
   "cell_type": "code",
   "execution_count": 56,
   "metadata": {},
   "outputs": [
    {
     "data": {
      "text/plain": [
       "Ttest_indResult(statistic=-0.3307101078214621, pvalue=0.7408726314336155)"
      ]
     },
     "execution_count": 56,
     "metadata": {},
     "output_type": "execute_result"
    }
   ],
   "source": [
    "scipy.stats.ttest_ind(KAO_AI[\"Right-Hippocampus-NVoxels_KAO\"], KAO_AI[\"Right-Hippocampus-NVoxels_AI\"])"
   ]
  },
  {
   "cell_type": "markdown",
   "metadata": {},
   "source": [
    "# Right-Hippocampus-Volume_mm3"
   ]
  },
  {
   "cell_type": "code",
   "execution_count": 57,
   "metadata": {},
   "outputs": [
    {
     "data": {
      "text/plain": [
       "Ttest_indResult(statistic=-0.25491693223209616, pvalue=0.7987941921315307)"
      ]
     },
     "execution_count": 57,
     "metadata": {},
     "output_type": "execute_result"
    }
   ],
   "source": [
    "scipy.stats.ttest_ind(KAO_AI[\"Right-Hippocampus-Volume_mm3_KAO\"], KAO_AI[\"Right-Hippocampus-Volume_mm3_AI\"])"
   ]
  },
  {
   "cell_type": "markdown",
   "metadata": {},
   "source": [
    "# Right-Amygdala-NVoxels"
   ]
  },
  {
   "cell_type": "code",
   "execution_count": 58,
   "metadata": {},
   "outputs": [
    {
     "data": {
      "text/plain": [
       "Ttest_indResult(statistic=-0.1465635081882741, pvalue=0.883480466703456)"
      ]
     },
     "execution_count": 58,
     "metadata": {},
     "output_type": "execute_result"
    }
   ],
   "source": [
    "scipy.stats.ttest_ind(KAO_AI[\"Right-Amygdala-NVoxels_KAO\"], KAO_AI[\"Right-Amygdala-NVoxels_AI\"])"
   ]
  },
  {
   "cell_type": "markdown",
   "metadata": {},
   "source": [
    "# Right-Amygdala-Volume_mm3"
   ]
  },
  {
   "cell_type": "code",
   "execution_count": 59,
   "metadata": {},
   "outputs": [
    {
     "data": {
      "text/plain": [
       "Ttest_indResult(statistic=-0.07671898650623138, pvalue=0.9388491301409172)"
      ]
     },
     "execution_count": 59,
     "metadata": {},
     "output_type": "execute_result"
    }
   ],
   "source": [
    "scipy.stats.ttest_ind(KAO_AI[\"Right-Amygdala-Volume_mm3_KAO\"], KAO_AI[\"Right-Amygdala-Volume_mm3_AI\"])"
   ]
  },
  {
   "cell_type": "markdown",
   "metadata": {},
   "source": [
    "# Right-Accumbens-area-NVoxels"
   ]
  },
  {
   "cell_type": "code",
   "execution_count": 60,
   "metadata": {},
   "outputs": [
    {
     "data": {
      "text/plain": [
       "Ttest_indResult(statistic=0.023153904093515847, pvalue=0.9815281190144628)"
      ]
     },
     "execution_count": 60,
     "metadata": {},
     "output_type": "execute_result"
    }
   ],
   "source": [
    "scipy.stats.ttest_ind(KAO_AI[\"Right-Accumbens-area-NVoxels_KAO\"], KAO_AI[\"Right-Accumbens-area-NVoxels_AI\"])"
   ]
  },
  {
   "cell_type": "markdown",
   "metadata": {},
   "source": [
    "# Right-Accumbens-area-Volume_mm3"
   ]
  },
  {
   "cell_type": "code",
   "execution_count": 61,
   "metadata": {},
   "outputs": [
    {
     "data": {
      "text/plain": [
       "Ttest_indResult(statistic=-0.11057446256691245, pvalue=0.9119567343357925)"
      ]
     },
     "execution_count": 61,
     "metadata": {},
     "output_type": "execute_result"
    }
   ],
   "source": [
    "scipy.stats.ttest_ind(KAO_AI[\"Right-Accumbens-area-Volume_mm3_KAO\"], KAO_AI[\"Right-Accumbens-area-Volume_mm3_AI\"])"
   ]
  },
  {
   "cell_type": "markdown",
   "metadata": {},
   "source": [
    "# Right-VentralDC-NVoxels"
   ]
  },
  {
   "cell_type": "code",
   "execution_count": 62,
   "metadata": {},
   "outputs": [
    {
     "data": {
      "text/plain": [
       "Ttest_indResult(statistic=-0.09642163225253547, pvalue=0.9231882679082066)"
      ]
     },
     "execution_count": 62,
     "metadata": {},
     "output_type": "execute_result"
    }
   ],
   "source": [
    "scipy.stats.ttest_ind(KAO_AI[\"Right-VentralDC-NVoxels_KAO\"], KAO_AI[\"Right-VentralDC-NVoxels_AI\"])"
   ]
  },
  {
   "cell_type": "markdown",
   "metadata": {},
   "source": [
    "# Right-VentralDC-Volume_mm3"
   ]
  },
  {
   "cell_type": "code",
   "execution_count": 63,
   "metadata": {},
   "outputs": [
    {
     "data": {
      "text/plain": [
       "Ttest_indResult(statistic=0.08206090086105342, pvalue=0.9346004572129225)"
      ]
     },
     "execution_count": 63,
     "metadata": {},
     "output_type": "execute_result"
    }
   ],
   "source": [
    "scipy.stats.ttest_ind(KAO_AI[\"Right-VentralDC-Volume_mm3_KAO\"], KAO_AI[\"Right-VentralDC-Volume_mm3_AI\"])"
   ]
  },
  {
   "cell_type": "markdown",
   "metadata": {},
   "source": [
    "# Right-vessel-NVoxels"
   ]
  },
  {
   "cell_type": "code",
   "execution_count": 64,
   "metadata": {},
   "outputs": [
    {
     "data": {
      "text/plain": [
       "Ttest_indResult(statistic=0.07779801704285401, pvalue=0.9379907826964773)"
      ]
     },
     "execution_count": 64,
     "metadata": {},
     "output_type": "execute_result"
    }
   ],
   "source": [
    "scipy.stats.ttest_ind(KAO_AI[\"Right-vessel-NVoxels_KAO\"], KAO_AI[\"Right-vessel-NVoxels_AI\"])"
   ]
  },
  {
   "cell_type": "markdown",
   "metadata": {},
   "source": [
    "# Right-vessel-Volume_mm3"
   ]
  },
  {
   "cell_type": "code",
   "execution_count": 65,
   "metadata": {},
   "outputs": [
    {
     "data": {
      "text/plain": [
       "Ttest_indResult(statistic=-0.08723543909278172, pvalue=0.9304866807797864)"
      ]
     },
     "execution_count": 65,
     "metadata": {},
     "output_type": "execute_result"
    }
   ],
   "source": [
    "scipy.stats.ttest_ind(KAO_AI[\"Right-vessel-Volume_mm3_KAO\"], KAO_AI[\"Right-vessel-Volume_mm3_AI\"])"
   ]
  },
  {
   "cell_type": "markdown",
   "metadata": {},
   "source": [
    "# Right-choroid-plexus-NVoxels"
   ]
  },
  {
   "cell_type": "code",
   "execution_count": 66,
   "metadata": {},
   "outputs": [
    {
     "data": {
      "text/plain": [
       "Ttest_indResult(statistic=0.41454983685237473, pvalue=0.6784832387179307)"
      ]
     },
     "execution_count": 66,
     "metadata": {},
     "output_type": "execute_result"
    }
   ],
   "source": [
    "scipy.stats.ttest_ind(KAO_AI[\"Right-choroid-plexus-NVoxels_KAO\"], KAO_AI[\"Right-choroid-plexus-NVoxels_AI\"])"
   ]
  },
  {
   "cell_type": "markdown",
   "metadata": {},
   "source": [
    "# Right-choroid-plexus-Volume_mm3"
   ]
  },
  {
   "cell_type": "code",
   "execution_count": 67,
   "metadata": {},
   "outputs": [
    {
     "data": {
      "text/plain": [
       "Ttest_indResult(statistic=0.3514871569024024, pvalue=0.7252327013367823)"
      ]
     },
     "execution_count": 67,
     "metadata": {},
     "output_type": "execute_result"
    }
   ],
   "source": [
    "scipy.stats.ttest_ind(KAO_AI[\"Right-choroid-plexus-Volume_mm3_KAO\"], KAO_AI[\"Right-choroid-plexus-Volume_mm3_AI\"])"
   ]
  },
  {
   "cell_type": "markdown",
   "metadata": {},
   "source": [
    "# 5th-Ventricle-NVoxels"
   ]
  },
  {
   "cell_type": "code",
   "execution_count": 68,
   "metadata": {},
   "outputs": [
    {
     "data": {
      "text/plain": [
       "Ttest_indResult(statistic=-0.389124483615096, pvalue=0.6971950222015968)"
      ]
     },
     "execution_count": 68,
     "metadata": {},
     "output_type": "execute_result"
    }
   ],
   "source": [
    "scipy.stats.ttest_ind(KAO_AI[\"5th-Ventricle-NVoxels_KAO\"], KAO_AI[\"5th-Ventricle-NVoxels_AI\"])"
   ]
  },
  {
   "cell_type": "markdown",
   "metadata": {},
   "source": [
    "# 5th-Ventricle-Volume_mm3"
   ]
  },
  {
   "cell_type": "code",
   "execution_count": 69,
   "metadata": {},
   "outputs": [
    {
     "data": {
      "text/plain": [
       "Ttest_indResult(statistic=-0.618471103411994, pvalue=0.536283472891159)"
      ]
     },
     "execution_count": 69,
     "metadata": {},
     "output_type": "execute_result"
    }
   ],
   "source": [
    "scipy.stats.ttest_ind(KAO_AI[\"5th-Ventricle-Volume_mm3_KAO\"], KAO_AI[\"5th-Ventricle-Volume_mm3_AI\"])"
   ]
  },
  {
   "cell_type": "markdown",
   "metadata": {},
   "source": [
    "# WM-hypointensities-NVoxels"
   ]
  },
  {
   "cell_type": "code",
   "execution_count": 70,
   "metadata": {},
   "outputs": [
    {
     "data": {
      "text/plain": [
       "Ttest_indResult(statistic=0.3301856939644421, pvalue=0.7412688048395699)"
      ]
     },
     "execution_count": 70,
     "metadata": {},
     "output_type": "execute_result"
    }
   ],
   "source": [
    "scipy.stats.ttest_ind(KAO_AI[\"WM-hypointensities-NVoxels_KAO\"], KAO_AI[\"WM-hypointensities-NVoxels_AI\"])"
   ]
  },
  {
   "cell_type": "markdown",
   "metadata": {},
   "source": [
    "# WM-hypointensities-Volume_mm3"
   ]
  },
  {
   "cell_type": "code",
   "execution_count": 71,
   "metadata": {},
   "outputs": [
    {
     "data": {
      "text/plain": [
       "Ttest_indResult(statistic=0.30288688286361004, pvalue=0.7619844015970376)"
      ]
     },
     "execution_count": 71,
     "metadata": {},
     "output_type": "execute_result"
    }
   ],
   "source": [
    "scipy.stats.ttest_ind(KAO_AI[\"WM-hypointensities-Volume_mm3_KAO\"], KAO_AI[\"WM-hypointensities-Volume_mm3_AI\"])"
   ]
  },
  {
   "cell_type": "markdown",
   "metadata": {},
   "source": [
    "# Left-WM-hypointensities-NVoxels"
   ]
  },
  {
   "cell_type": "code",
   "execution_count": 72,
   "metadata": {},
   "outputs": [
    {
     "data": {
      "text/plain": [
       "Ttest_indResult(statistic=nan, pvalue=nan)"
      ]
     },
     "execution_count": 72,
     "metadata": {},
     "output_type": "execute_result"
    }
   ],
   "source": [
    "scipy.stats.ttest_ind(KAO_AI[\"Left-WM-hypointensities-NVoxels_KAO\"], KAO_AI[\"Left-WM-hypointensities-NVoxels_AI\"])"
   ]
  },
  {
   "cell_type": "markdown",
   "metadata": {},
   "source": [
    "# Left-WM-hypointensities-Volume_mm3"
   ]
  },
  {
   "cell_type": "code",
   "execution_count": 73,
   "metadata": {},
   "outputs": [
    {
     "data": {
      "text/plain": [
       "Ttest_indResult(statistic=nan, pvalue=nan)"
      ]
     },
     "execution_count": 73,
     "metadata": {},
     "output_type": "execute_result"
    }
   ],
   "source": [
    "scipy.stats.ttest_ind(KAO_AI[\"Left-WM-hypointensities-Volume_mm3_KAO\"], KAO_AI[\"Left-WM-hypointensities-Volume_mm3_AI\"])"
   ]
  },
  {
   "cell_type": "markdown",
   "metadata": {},
   "source": [
    "# Right-WM-hypointensities-NVoxels"
   ]
  },
  {
   "cell_type": "code",
   "execution_count": 74,
   "metadata": {},
   "outputs": [
    {
     "data": {
      "text/plain": [
       "Ttest_indResult(statistic=nan, pvalue=nan)"
      ]
     },
     "execution_count": 74,
     "metadata": {},
     "output_type": "execute_result"
    }
   ],
   "source": [
    "scipy.stats.ttest_ind(KAO_AI[\"Right-WM-hypointensities-NVoxels_KAO\"], KAO_AI[\"Right-WM-hypointensities-NVoxels_AI\"])"
   ]
  },
  {
   "cell_type": "markdown",
   "metadata": {},
   "source": [
    "# Right-WM-hypointensities-Volume_mm3"
   ]
  },
  {
   "cell_type": "code",
   "execution_count": 75,
   "metadata": {},
   "outputs": [
    {
     "data": {
      "text/plain": [
       "Ttest_indResult(statistic=nan, pvalue=nan)"
      ]
     },
     "execution_count": 75,
     "metadata": {},
     "output_type": "execute_result"
    }
   ],
   "source": [
    "scipy.stats.ttest_ind(KAO_AI[\"Right-WM-hypointensities-Volume_mm3_KAO\"], KAO_AI[\"Right-WM-hypointensities-Volume_mm3_AI\"])"
   ]
  },
  {
   "cell_type": "markdown",
   "metadata": {},
   "source": [
    "# non-WM-hypointensities-NVoxels"
   ]
  },
  {
   "cell_type": "code",
   "execution_count": 76,
   "metadata": {},
   "outputs": [
    {
     "data": {
      "text/plain": [
       "Ttest_indResult(statistic=-0.2787020132934394, pvalue=0.7804811400759366)"
      ]
     },
     "execution_count": 76,
     "metadata": {},
     "output_type": "execute_result"
    }
   ],
   "source": [
    "scipy.stats.ttest_ind(KAO_AI[\"non-WM-hypointensities-NVoxels_KAO\"], KAO_AI[\"non-WM-hypointensities-NVoxels_AI\"])"
   ]
  },
  {
   "cell_type": "markdown",
   "metadata": {},
   "source": [
    "# non-WM-hypointensities-Volume_mm3"
   ]
  },
  {
   "cell_type": "code",
   "execution_count": 77,
   "metadata": {},
   "outputs": [
    {
     "data": {
      "text/plain": [
       "Ttest_indResult(statistic=-0.179985876058309, pvalue=0.8571684803230224)"
      ]
     },
     "execution_count": 77,
     "metadata": {},
     "output_type": "execute_result"
    }
   ],
   "source": [
    "scipy.stats.ttest_ind(KAO_AI[\"non-WM-hypointensities-Volume_mm3_KAO\"], KAO_AI[\"non-WM-hypointensities-Volume_mm3_AI\"])"
   ]
  },
  {
   "cell_type": "markdown",
   "metadata": {},
   "source": [
    "# Left-non-WM-hypointensities-NVoxels"
   ]
  },
  {
   "cell_type": "code",
   "execution_count": 78,
   "metadata": {},
   "outputs": [
    {
     "data": {
      "text/plain": [
       "Ttest_indResult(statistic=nan, pvalue=nan)"
      ]
     },
     "execution_count": 78,
     "metadata": {},
     "output_type": "execute_result"
    }
   ],
   "source": [
    "scipy.stats.ttest_ind(KAO_AI[\"Left-non-WM-hypointensities-NVoxels_KAO\"], KAO_AI[\"Left-non-WM-hypointensities-NVoxels_AI\"])"
   ]
  },
  {
   "cell_type": "markdown",
   "metadata": {},
   "source": [
    "# Left-non-WM-hypointensities-Volume_mm3"
   ]
  },
  {
   "cell_type": "code",
   "execution_count": 79,
   "metadata": {},
   "outputs": [
    {
     "data": {
      "text/plain": [
       "Ttest_indResult(statistic=nan, pvalue=nan)"
      ]
     },
     "execution_count": 79,
     "metadata": {},
     "output_type": "execute_result"
    }
   ],
   "source": [
    "scipy.stats.ttest_ind(KAO_AI[\"Left-non-WM-hypointensities-Volume_mm3_KAO\"], KAO_AI[\"Left-non-WM-hypointensities-Volume_mm3_AI\"])"
   ]
  },
  {
   "cell_type": "markdown",
   "metadata": {},
   "source": [
    "# Right-non-WM-hypointensities-NVoxels"
   ]
  },
  {
   "cell_type": "code",
   "execution_count": 80,
   "metadata": {},
   "outputs": [
    {
     "data": {
      "text/plain": [
       "Ttest_indResult(statistic=nan, pvalue=nan)"
      ]
     },
     "execution_count": 80,
     "metadata": {},
     "output_type": "execute_result"
    }
   ],
   "source": [
    "scipy.stats.ttest_ind(KAO_AI[\"Right-non-WM-hypointensities-NVoxels_KAO\"], KAO_AI[\"Right-non-WM-hypointensities-NVoxels_AI\"])"
   ]
  },
  {
   "cell_type": "markdown",
   "metadata": {},
   "source": [
    "# Right-non-WM-hypointensities-Volume_mm3"
   ]
  },
  {
   "cell_type": "code",
   "execution_count": 81,
   "metadata": {},
   "outputs": [
    {
     "data": {
      "text/plain": [
       "Ttest_indResult(statistic=nan, pvalue=nan)"
      ]
     },
     "execution_count": 81,
     "metadata": {},
     "output_type": "execute_result"
    }
   ],
   "source": [
    "scipy.stats.ttest_ind(KAO_AI[\"Right-non-WM-hypointensities-Volume_mm3_KAO\"], KAO_AI[\"Right-non-WM-hypointensities-Volume_mm3_AI\"])"
   ]
  },
  {
   "cell_type": "markdown",
   "metadata": {},
   "source": [
    "# Optic-Chiasm-NVoxels"
   ]
  },
  {
   "cell_type": "code",
   "execution_count": 82,
   "metadata": {},
   "outputs": [
    {
     "data": {
      "text/plain": [
       "Ttest_indResult(statistic=-0.7402702245664812, pvalue=0.4591590327927698)"
      ]
     },
     "execution_count": 82,
     "metadata": {},
     "output_type": "execute_result"
    }
   ],
   "source": [
    "scipy.stats.ttest_ind(KAO_AI[\"Optic-Chiasm-NVoxels_KAO\"], KAO_AI[\"Optic-Chiasm-NVoxels_AI\"])"
   ]
  },
  {
   "cell_type": "markdown",
   "metadata": {},
   "source": [
    "# Optic-Chiasm-Volume_mm3"
   ]
  },
  {
   "cell_type": "code",
   "execution_count": 83,
   "metadata": {},
   "outputs": [
    {
     "data": {
      "text/plain": [
       "Ttest_indResult(statistic=-0.534106324202483, pvalue=0.5932836790768017)"
      ]
     },
     "execution_count": 83,
     "metadata": {},
     "output_type": "execute_result"
    }
   ],
   "source": [
    "scipy.stats.ttest_ind(KAO_AI[\"Optic-Chiasm-Volume_mm3_KAO\"], KAO_AI[\"Optic-Chiasm-Volume_mm3_AI\"])"
   ]
  },
  {
   "cell_type": "markdown",
   "metadata": {},
   "source": [
    "# CC_Posterior-NVoxels"
   ]
  },
  {
   "cell_type": "code",
   "execution_count": 84,
   "metadata": {},
   "outputs": [
    {
     "data": {
      "text/plain": [
       "Ttest_indResult(statistic=-0.8238734076849545, pvalue=0.4100374815328077)"
      ]
     },
     "execution_count": 84,
     "metadata": {},
     "output_type": "execute_result"
    }
   ],
   "source": [
    "scipy.stats.ttest_ind(KAO_AI[\"CC_Posterior-NVoxels_KAO\"], KAO_AI[\"CC_Posterior-NVoxels_AI\"])"
   ]
  },
  {
   "cell_type": "markdown",
   "metadata": {},
   "source": [
    "# CC_Posterior-Volume_mm3"
   ]
  },
  {
   "cell_type": "code",
   "execution_count": 85,
   "metadata": {},
   "outputs": [
    {
     "data": {
      "text/plain": [
       "Ttest_indResult(statistic=-0.8361400903258478, pvalue=0.40310252338341923)"
      ]
     },
     "execution_count": 85,
     "metadata": {},
     "output_type": "execute_result"
    }
   ],
   "source": [
    "scipy.stats.ttest_ind(KAO_AI[\"CC_Posterior-Volume_mm3_KAO\"], KAO_AI[\"CC_Posterior-Volume_mm3_AI\"])"
   ]
  },
  {
   "cell_type": "markdown",
   "metadata": {},
   "source": [
    "# CC_Mid_Posterior-NVoxels"
   ]
  },
  {
   "cell_type": "code",
   "execution_count": 86,
   "metadata": {},
   "outputs": [
    {
     "data": {
      "text/plain": [
       "Ttest_indResult(statistic=-0.7055355809789322, pvalue=0.4804987355006154)"
      ]
     },
     "execution_count": 86,
     "metadata": {},
     "output_type": "execute_result"
    }
   ],
   "source": [
    "scipy.stats.ttest_ind(KAO_AI[\"CC_Mid_Posterior-NVoxels_KAO\"], KAO_AI[\"CC_Mid_Posterior-NVoxels_AI\"])"
   ]
  },
  {
   "cell_type": "markdown",
   "metadata": {},
   "source": [
    "# CC_Mid_Posterior-Volume_mm3"
   ]
  },
  {
   "cell_type": "code",
   "execution_count": 87,
   "metadata": {},
   "outputs": [
    {
     "data": {
      "text/plain": [
       "Ttest_indResult(statistic=-0.6760743462797718, pvalue=0.4990141243945134)"
      ]
     },
     "execution_count": 87,
     "metadata": {},
     "output_type": "execute_result"
    }
   ],
   "source": [
    "scipy.stats.ttest_ind(KAO_AI[\"CC_Mid_Posterior-Volume_mm3_KAO\"], KAO_AI[\"CC_Mid_Posterior-Volume_mm3_AI\"])"
   ]
  },
  {
   "cell_type": "markdown",
   "metadata": {},
   "source": [
    "# CC_Central-NVoxels"
   ]
  },
  {
   "cell_type": "code",
   "execution_count": 88,
   "metadata": {},
   "outputs": [
    {
     "data": {
      "text/plain": [
       "Ttest_indResult(statistic=-0.6700051351041406, pvalue=0.5028749805541421)"
      ]
     },
     "execution_count": 88,
     "metadata": {},
     "output_type": "execute_result"
    }
   ],
   "source": [
    "scipy.stats.ttest_ind(KAO_AI[\"CC_Central-NVoxels_KAO\"], KAO_AI[\"CC_Central-NVoxels_AI\"])"
   ]
  },
  {
   "cell_type": "markdown",
   "metadata": {},
   "source": [
    "# CC_Central-Volume_mm3"
   ]
  },
  {
   "cell_type": "code",
   "execution_count": 89,
   "metadata": {},
   "outputs": [
    {
     "data": {
      "text/plain": [
       "Ttest_indResult(statistic=-0.6194111993036269, pvalue=0.5356641709880788)"
      ]
     },
     "execution_count": 89,
     "metadata": {},
     "output_type": "execute_result"
    }
   ],
   "source": [
    "scipy.stats.ttest_ind(KAO_AI[\"CC_Central-Volume_mm3_KAO\"], KAO_AI[\"CC_Central-Volume_mm3_AI\"])"
   ]
  },
  {
   "cell_type": "markdown",
   "metadata": {},
   "source": [
    "# CC_Mid_Anterior-NVoxels"
   ]
  },
  {
   "cell_type": "code",
   "execution_count": 90,
   "metadata": {},
   "outputs": [
    {
     "data": {
      "text/plain": [
       "Ttest_indResult(statistic=-0.42381869376231146, pvalue=0.6717101016005056)"
      ]
     },
     "execution_count": 90,
     "metadata": {},
     "output_type": "execute_result"
    }
   ],
   "source": [
    "scipy.stats.ttest_ind(KAO_AI[\"CC_Mid_Anterior-NVoxels_KAO\"], KAO_AI[\"CC_Mid_Anterior-NVoxels_AI\"])"
   ]
  },
  {
   "cell_type": "markdown",
   "metadata": {},
   "source": [
    "# CC_Mid_Anterior-Volume_mm3"
   ]
  },
  {
   "cell_type": "code",
   "execution_count": 91,
   "metadata": {},
   "outputs": [
    {
     "data": {
      "text/plain": [
       "Ttest_indResult(statistic=-0.3798623404908383, pvalue=0.7040582739592367)"
      ]
     },
     "execution_count": 91,
     "metadata": {},
     "output_type": "execute_result"
    }
   ],
   "source": [
    "scipy.stats.ttest_ind(KAO_AI[\"CC_Mid_Anterior-Volume_mm3_KAO\"], KAO_AI[\"CC_Mid_Anterior-Volume_mm3_AI\"])"
   ]
  },
  {
   "cell_type": "markdown",
   "metadata": {},
   "source": [
    "# CC_Anterior-NVoxels"
   ]
  },
  {
   "cell_type": "code",
   "execution_count": 92,
   "metadata": {},
   "outputs": [
    {
     "data": {
      "text/plain": [
       "Ttest_indResult(statistic=-0.16450520648492087, pvalue=0.8693378463586944)"
      ]
     },
     "execution_count": 92,
     "metadata": {},
     "output_type": "execute_result"
    }
   ],
   "source": [
    "scipy.stats.ttest_ind(KAO_AI[\"CC_Anterior-NVoxels_KAO\"], KAO_AI[\"CC_Anterior-NVoxels_AI\"])"
   ]
  },
  {
   "cell_type": "markdown",
   "metadata": {},
   "source": [
    "# CC_Anterior-Volume_mm3"
   ]
  },
  {
   "cell_type": "code",
   "execution_count": 93,
   "metadata": {},
   "outputs": [
    {
     "data": {
      "text/plain": [
       "Ttest_indResult(statistic=-0.03353295214108579, pvalue=0.9732504738437295)"
      ]
     },
     "execution_count": 93,
     "metadata": {},
     "output_type": "execute_result"
    }
   ],
   "source": [
    "scipy.stats.ttest_ind(KAO_AI[\"CC_Anterior-Volume_mm3_KAO\"], KAO_AI[\"CC_Anterior-Volume_mm3_AI\"])"
   ]
  },
  {
   "cell_type": "code",
   "execution_count": null,
   "metadata": {},
   "outputs": [],
   "source": []
  }
 ],
 "metadata": {
  "kernelspec": {
   "display_name": "Python 3",
   "language": "python",
   "name": "python3"
  },
  "language_info": {
   "codemirror_mode": {
    "name": "ipython",
    "version": 3
   },
   "file_extension": ".py",
   "mimetype": "text/x-python",
   "name": "python",
   "nbconvert_exporter": "python",
   "pygments_lexer": "ipython3",
   "version": "3.8.10"
  }
 },
 "nbformat": 4,
 "nbformat_minor": 4
}
